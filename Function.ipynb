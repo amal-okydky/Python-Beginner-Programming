{
 "cells": [
  {
   "cell_type": "markdown",
   "id": "d42db810",
   "metadata": {},
   "source": [
    "# Function"
   ]
  },
  {
   "cell_type": "code",
   "execution_count": 2,
   "id": "9c7df311",
   "metadata": {},
   "outputs": [],
   "source": [
    "def my_function(p, p1):\n",
    "  print(p*1)"
   ]
  },
  {
   "cell_type": "code",
   "execution_count": 3,
   "id": "3ee270c6",
   "metadata": {},
   "outputs": [
    {
     "name": "stdout",
     "output_type": "stream",
     "text": [
      "2\n"
     ]
    }
   ],
   "source": [
    "my_function(2,4)"
   ]
  },
  {
   "cell_type": "code",
   "execution_count": 4,
   "id": "518c2973",
   "metadata": {},
   "outputs": [
    {
     "name": "stdout",
     "output_type": "stream",
     "text": [
      "200\n"
     ]
    }
   ],
   "source": [
    "def luas_persegi_panjang(panjang, lebar):\n",
    "  luas = panjang * lebar\n",
    "  return luas\n",
    "\n",
    "lp = luas_persegi_panjang(panjang = 10, lebar = 20)\n",
    "print(lp)"
   ]
  },
  {
   "cell_type": "code",
   "execution_count": 5,
   "id": "b9a61018",
   "metadata": {},
   "outputs": [
    {
     "name": "stdout",
     "output_type": "stream",
     "text": [
      "Nama saya AP\n"
     ]
    }
   ],
   "source": [
    "def cetak_aku(x):\n",
    "  print(x)\n",
    "  return\n",
    "\n",
    "cetak_aku(\"Nama saya AP\")"
   ]
  },
  {
   "cell_type": "code",
   "execution_count": 6,
   "id": "d8f29197",
   "metadata": {},
   "outputs": [
    {
     "name": "stdout",
     "output_type": "stream",
     "text": [
      "Selamat malam  AP\n",
      "Selamat datang dipertemuan ketiga kampus merdeka\n"
     ]
    }
   ],
   "source": [
    "# Versi 1 Tanpa input, tanpa output\n",
    "def salam():\n",
    "  print('Selamat malam semua')\n",
    "  print('Selamat datang dipertemuan ketiga kampus merdeka')\n",
    "  return\n",
    "\n",
    "# Versi 2 dengan input, tanpa output\n",
    "def salam(nama):\n",
    "  print('Selamat malam ', nama)\n",
    "  print('Selamat datang dipertemuan ketiga kampus merdeka')\n",
    "  return\n",
    "\n",
    "salam(nama = 'AP')"
   ]
  },
  {
   "cell_type": "code",
   "execution_count": 7,
   "id": "2f7dfa8b",
   "metadata": {},
   "outputs": [],
   "source": [
    "# Versi 3 Dengan input dan output\n",
    "def luas_persegi_panjang(panjang, lebar):\n",
    "  luas = panjang * lebar\n",
    "  return luas"
   ]
  },
  {
   "cell_type": "code",
   "execution_count": 8,
   "id": "e7b63815",
   "metadata": {},
   "outputs": [
    {
     "data": {
      "text/plain": [
       "200"
      ]
     },
     "execution_count": 8,
     "metadata": {},
     "output_type": "execute_result"
    }
   ],
   "source": [
    "luas_persegi_panjang(10, 20)"
   ]
  },
  {
   "cell_type": "code",
   "execution_count": 9,
   "id": "1baab9b4",
   "metadata": {},
   "outputs": [
    {
     "data": {
      "text/plain": [
       "15"
      ]
     },
     "execution_count": 9,
     "metadata": {},
     "output_type": "execute_result"
    }
   ],
   "source": [
    "luas_persegi_panjang(lebar = 5, panjang = 3) "
   ]
  },
  {
   "cell_type": "code",
   "execution_count": 10,
   "id": "18596524",
   "metadata": {},
   "outputs": [
    {
     "data": {
      "text/plain": [
       "90"
      ]
     },
     "execution_count": 10,
     "metadata": {},
     "output_type": "execute_result"
    }
   ],
   "source": [
    "luas_persegi_panjang(panjang = 15, lebar = 6)"
   ]
  },
  {
   "cell_type": "markdown",
   "id": "c95f1119",
   "metadata": {},
   "source": [
    "## Definition"
   ]
  },
  {
   "cell_type": "code",
   "execution_count": 11,
   "id": "17ed2936",
   "metadata": {},
   "outputs": [],
   "source": [
    "def my_function(a,b):\n",
    "  \"Function untuk menghitung luas\""
   ]
  },
  {
   "cell_type": "code",
   "execution_count": 12,
   "id": "970aac30",
   "metadata": {},
   "outputs": [
    {
     "name": "stdout",
     "output_type": "stream",
     "text": [
      "8\n"
     ]
    }
   ],
   "source": [
    " print(2 * 4)"
   ]
  },
  {
   "cell_type": "markdown",
   "id": "16aa9aee",
   "metadata": {},
   "source": [
    "### Calling a Function"
   ]
  },
  {
   "cell_type": "code",
   "execution_count": 13,
   "id": "9c48fe0e",
   "metadata": {},
   "outputs": [
    {
     "name": "stdout",
     "output_type": "stream",
     "text": [
      "I'm first call to user defined function!\n",
      "Again second call to the same function\n"
     ]
    }
   ],
   "source": [
    "# Function definition is here\n",
    "def printme( str ):\n",
    "  \"This prints a passed string into this function\"\n",
    "  print(str)\n",
    "  return\n",
    "\n",
    "# Now you can call printme function\n",
    "printme(\"I'm first call to user defined function!\")\n",
    "printme(\"Again second call to the same function\")"
   ]
  },
  {
   "cell_type": "markdown",
   "id": "9c8b064c",
   "metadata": {},
   "source": [
    "### Pass by reference vs value"
   ]
  },
  {
   "cell_type": "code",
   "execution_count": 14,
   "id": "eebe4e9e",
   "metadata": {},
   "outputs": [
    {
     "name": "stdout",
     "output_type": "stream",
     "text": [
      "Values inside the function:  [10, 20, 20, [1, 2, 3, 4]]\n",
      "Values outside the function:  [10, 20, 20, [1, 2, 3, 4]]\n"
     ]
    }
   ],
   "source": [
    "# Function definition is here\n",
    "def changeme ( mylist ):\n",
    "  \"This changes a passed list into this function\"\n",
    "  mylist.append([1,2,3,4]);\n",
    "  print(\"Values inside the function: \", mylist)\n",
    "  return\n",
    "\n",
    "# Now you can call changme funtion\n",
    "mylist = [10,20,20];\n",
    "changeme( mylist );\n",
    "print(\"Values outside the function: \", mylist)"
   ]
  },
  {
   "cell_type": "code",
   "execution_count": 15,
   "id": "7a4f6e3e",
   "metadata": {},
   "outputs": [
    {
     "name": "stdout",
     "output_type": "stream",
     "text": [
      "Values inside the function:  [1, 2, 3, 4]\n",
      "Values outside the function:  [10, 20, 20]\n"
     ]
    }
   ],
   "source": [
    "# Function definition is here\n",
    "def changeme ( mylist ):\n",
    "  \"This changes a passed list into this function\"\n",
    "  mylist = [1,2,3,4]; # This would assig new reference in mylist\n",
    "  print(\"Values inside the function: \", mylist)\n",
    "  return\n",
    "\n",
    "# Now you can call changme funtion\n",
    "mylist = [10,20,20];\n",
    "changeme( mylist );\n",
    "print(\"Values outside the function: \", mylist)"
   ]
  },
  {
   "cell_type": "markdown",
   "id": "6182ee27",
   "metadata": {},
   "source": [
    "# Function Arguments"
   ]
  },
  {
   "cell_type": "code",
   "execution_count": 16,
   "id": "b073a449",
   "metadata": {},
   "outputs": [
    {
     "name": "stdout",
     "output_type": "stream",
     "text": [
      "Value of total :  None\n",
      "Value of total :  None\n"
     ]
    }
   ],
   "source": [
    "# Function definition is here\n",
    "sum = lambda arg1, arg2: arg1 + arg2;\n",
    "\n",
    "def sum(arg1, arg2):\n",
    "  arg1 + arg2\n",
    "\n",
    "# Now you can call sum as a funtion\n",
    "print(\"Value of total : \", sum( 10, 20 ))\n",
    "print(\"Value of total : \", sum ( 10, 20))"
   ]
  },
  {
   "cell_type": "markdown",
   "id": "a3bfe323",
   "metadata": {},
   "source": [
    "### Return Statement"
   ]
  },
  {
   "cell_type": "code",
   "execution_count": 17,
   "id": "a8796773",
   "metadata": {},
   "outputs": [
    {
     "name": "stdout",
     "output_type": "stream",
     "text": [
      "Inside the function :  30\n"
     ]
    },
    {
     "data": {
      "text/plain": [
       "40"
      ]
     },
     "execution_count": 17,
     "metadata": {},
     "output_type": "execute_result"
    }
   ],
   "source": [
    "# Function definition is here\n",
    "def sum(arg1, arg2):\n",
    "  #Add both the parameters and return them\n",
    "  total = arg1 + arg2\n",
    "  total2 = total + arg1\n",
    "  print(\"Inside the function : \", total)\n",
    "  return total2\n",
    "\n",
    "sum(10,20)"
   ]
  },
  {
   "cell_type": "code",
   "execution_count": 18,
   "id": "a844e522",
   "metadata": {},
   "outputs": [
    {
     "name": "stdout",
     "output_type": "stream",
     "text": [
      "Inside the function :  30\n",
      "Outside the function :  40\n"
     ]
    }
   ],
   "source": [
    "# Function definition is here\n",
    "def sum(arg1, arg2):\n",
    "  #Add both the parameters and return them\n",
    "  total = arg1 + arg2\n",
    "  total2 = total + arg1\n",
    "  print(\"Inside the function : \", total)\n",
    "  return total2\n",
    "\n",
    "# Now you can call sum as a funtion\n",
    "total = sum(10,20)\n",
    "print(\"Outside the function : \", total)"
   ]
  },
  {
   "cell_type": "code",
   "execution_count": 19,
   "id": "aaa079d6",
   "metadata": {},
   "outputs": [
    {
     "data": {
      "text/plain": [
       "40"
      ]
     },
     "execution_count": 19,
     "metadata": {},
     "output_type": "execute_result"
    }
   ],
   "source": [
    "jumlahKucing = 20\n",
    "\n",
    "def jumlahHewan():\n",
    "  jumlahAnjing = 30\n",
    "  return jumlahKucing + jumlahAnjing\n",
    "\n",
    "def jumlahKelinci():\n",
    "  return jumlahKucing + jumlahKucing\n",
    "\n",
    "jumlahHewan()\n",
    "jumlahKelinci()"
   ]
  }
 ],
 "metadata": {
  "kernelspec": {
   "display_name": "Python 3 (ipykernel)",
   "language": "python",
   "name": "python3"
  },
  "language_info": {
   "codemirror_mode": {
    "name": "ipython",
    "version": 3
   },
   "file_extension": ".py",
   "mimetype": "text/x-python",
   "name": "python",
   "nbconvert_exporter": "python",
   "pygments_lexer": "ipython3",
   "version": "3.10.11"
  }
 },
 "nbformat": 4,
 "nbformat_minor": 5
}
